{
 "cells": [
  {
   "cell_type": "code",
   "execution_count": 13,
   "metadata": {},
   "outputs": [
    {
     "name": "stdout",
     "output_type": "stream",
     "text": [
      "3\n",
      "11\n",
      "ert\n",
      "ert\n",
      "yyyy\n",
      "12\n",
      "tablet\n",
      "tablet\n",
      "mumbai\n",
      "13\n",
      "laptop\n",
      "laptop\n",
      "nashik\n",
      "tablet\n",
      "12 tablet\n",
      "nashik\n",
      "1\n"
     ]
    }
   ],
   "source": [
    "# Enter your code here. Read input from STDIN. Print output to STDOUT\n",
    "import re\n",
    "class Asset:\n",
    "    def __init__(self,a_id,h_name,a_type,location):\n",
    "        self.asset_id  = a_id\n",
    "        self.asset_holder_name = h_name\n",
    "        self.asset_type = a_type\n",
    "        self.asset_location = location\n",
    "\n",
    "class AssetManager:\n",
    "    def __init__(self,man_name,a_list):\n",
    "        self.asset_manager_name = man_name\n",
    "        self.asset_list = a_list\n",
    "    \n",
    "    def findword(self,word,input_string):\n",
    "        return word in input_string.split()\n",
    "        \n",
    "    def findAsserIdWithNameBasedOnAssetType(self,a_type):\n",
    "        r_list = []\n",
    "        for i in self.asset_list:\n",
    "            if(i.asset_type == a_type):\n",
    "                r_list.append((i.asset_id,i.asset_holder_name))    \n",
    "        return r_list\n",
    "\n",
    "    def countAssetsBasedOnLocation(self,loc):\n",
    "        count = 0\n",
    "        for i in self.asset_list:\n",
    "            if self.findword(loc,i.asset_location):\n",
    "                count = count + 1       \n",
    "        return count\n",
    "\n",
    "if __name__=='__main__':\n",
    "    num = int(input())\n",
    "    asset_list = []\n",
    "    for i in range(num):\n",
    "        a_id = int(input())\n",
    "        h_name = input()\n",
    "        a_type = input()\n",
    "        location = input()\n",
    "        obj = Asset(a_id,h_name,a_type,location)\n",
    "        asset_list.append(obj)\n",
    "    \n",
    "    asman = AssetManager(\"me\",asset_list)\n",
    "\n",
    "    asset_type_find = input()\n",
    "    result = asman.findAsserIdWithNameBasedOnAssetType(asset_type_find)\n",
    "    if(result == []):\n",
    "        print(\"No asset founs with the given asset type\")\n",
    "    else:\n",
    "        for i in result:\n",
    "            print(i[0],i[1],sep=\" \")\n",
    "        \n",
    "\n",
    "    loc = input()\n",
    "    count = asman.countAssetsBasedOnLocation(loc)\n",
    "    if(count == 0):\n",
    "        print(\"No Asset Fount With given location\")\n",
    "    else:\n",
    "        print(count)\n",
    "\n"
   ]
  }
 ],
 "metadata": {
  "kernelspec": {
   "display_name": "Python 3",
   "language": "python",
   "name": "python3"
  },
  "language_info": {
   "codemirror_mode": {
    "name": "ipython",
    "version": 3
   },
   "file_extension": ".py",
   "mimetype": "text/x-python",
   "name": "python",
   "nbconvert_exporter": "python",
   "pygments_lexer": "ipython3",
   "version": "3.7.1"
  }
 },
 "nbformat": 4,
 "nbformat_minor": 2
}
